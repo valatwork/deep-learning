{
 "cells": [
  {
   "metadata": {},
   "cell_type": "markdown",
   "source": "# Reproducibility",
   "id": "3f8a0efdabae0746"
  },
  {
   "metadata": {},
   "cell_type": "markdown",
   "source": [
    "As you learn more about neural networks and machine learning, you'll start to discover how much randomness plays a part.\n",
    "\n",
    "Well, pseudorandomness that is. Because after all, as they're designed, a computer is fundamentally deterministic, so the randomness they create is *simulated* randomness.\n",
    "\n",
    "To reduce the impact of this randomness in neural networks, the concept of  a random seed is introduced. A random seed is a number that initializes the pseudorandom number generator (PRNG) in a way that allows you to reproduce the same sequence of random numbers."
   ],
   "id": "2f0c978f4d9bb8e"
  },
  {
   "metadata": {
    "ExecuteTime": {
     "end_time": "2025-04-21T16:59:02.874582Z",
     "start_time": "2025-04-21T16:58:58.208639Z"
    }
   },
   "cell_type": "code",
   "source": "import torch",
   "id": "284c8ded59dc7f04",
   "outputs": [],
   "execution_count": 1
  },
  {
   "metadata": {},
   "cell_type": "markdown",
   "source": "Let's create two random tensors $A$ and $B$:",
   "id": "75d48146be73ee6c"
  },
  {
   "metadata": {
    "ExecuteTime": {
     "end_time": "2025-04-21T16:59:02.934582Z",
     "start_time": "2025-04-21T16:59:02.889753Z"
    }
   },
   "cell_type": "code",
   "source": [
    "A = torch.rand(3, 4)\n",
    "B = torch.rand(3, 4)\n",
    "\n",
    "print(A)\n",
    "print(B)\n",
    "print(A == B)"
   ],
   "id": "d6bc8601acfbc2ce",
   "outputs": [
    {
     "name": "stdout",
     "output_type": "stream",
     "text": [
      "tensor([[0.3222, 0.3425, 0.9287, 0.9645],\n",
      "        [0.9655, 0.7451, 0.2176, 0.3717],\n",
      "        [0.2267, 0.1199, 0.4297, 0.5454]])\n",
      "tensor([[0.9668, 0.2431, 0.2669, 0.6166],\n",
      "        [0.0928, 0.9545, 0.5554, 0.1434],\n",
      "        [0.4719, 0.1920, 0.7063, 0.8740]])\n",
      "tensor([[False, False, False, False],\n",
      "        [False, False, False, False],\n",
      "        [False, False, False, False]])\n"
     ]
    }
   ],
   "execution_count": 2
  },
  {
   "metadata": {},
   "cell_type": "markdown",
   "source": "It is highly unlikely that the two tensors will be the same, which will make it difficult to reproduce results. Let's set a random seed and create the tensors again:",
   "id": "77a9a4f347406648"
  },
  {
   "metadata": {
    "ExecuteTime": {
     "end_time": "2025-04-21T16:59:03.093587Z",
     "start_time": "2025-04-21T16:59:03.080535Z"
    }
   },
   "cell_type": "code",
   "source": [
    "RANDOM_SEED = 42\n",
    "\n",
    "torch.manual_seed(RANDOM_SEED)\n",
    "C = torch.rand(3, 4)\n",
    "# torch.manual_seed() has to be called before every random generator\n",
    "torch.manual_seed(RANDOM_SEED)\n",
    "D = torch.rand(3, 4)\n",
    "\n",
    "print(C)\n",
    "print(D)\n",
    "print(C == D)"
   ],
   "id": "70be2020687fc3e7",
   "outputs": [
    {
     "name": "stdout",
     "output_type": "stream",
     "text": [
      "tensor([[0.8823, 0.9150, 0.3829, 0.9593],\n",
      "        [0.3904, 0.6009, 0.2566, 0.7936],\n",
      "        [0.9408, 0.1332, 0.9346, 0.5936]])\n",
      "tensor([[0.8823, 0.9150, 0.3829, 0.9593],\n",
      "        [0.3904, 0.6009, 0.2566, 0.7936],\n",
      "        [0.9408, 0.1332, 0.9346, 0.5936]])\n",
      "tensor([[True, True, True, True],\n",
      "        [True, True, True, True],\n",
      "        [True, True, True, True]])\n"
     ]
    }
   ],
   "execution_count": 3
  },
  {
   "metadata": {},
   "cell_type": "markdown",
   "source": "Deterministic operations are often slower than nondeterministic operations, so single-run performance may decrease for your model. However, determinism may save time in development by facilitating experimentation, debugging, and regression testing.",
   "id": "222aeac741451d5f"
  }
 ],
 "metadata": {
  "kernelspec": {
   "display_name": "Python 3",
   "language": "python",
   "name": "python3"
  },
  "language_info": {
   "codemirror_mode": {
    "name": "ipython",
    "version": 2
   },
   "file_extension": ".py",
   "mimetype": "text/x-python",
   "name": "python",
   "nbconvert_exporter": "python",
   "pygments_lexer": "ipython2",
   "version": "2.7.6"
  }
 },
 "nbformat": 4,
 "nbformat_minor": 5
}
