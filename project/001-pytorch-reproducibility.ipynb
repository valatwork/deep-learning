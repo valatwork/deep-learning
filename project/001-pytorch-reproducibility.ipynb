{
 "cells": [
  {
   "metadata": {},
   "cell_type": "markdown",
   "source": "# Reproducibility",
   "id": "3f8a0efdabae0746"
  },
  {
   "metadata": {},
   "cell_type": "markdown",
   "source": [
    "As you learn more about neural networks and machine learning, you'll start to discover how much randomness plays a part.\n",
    "\n",
    "Well, pseudorandomness that is. Because after all, as they're designed, a computer is fundamentally deterministic, so the randomness they create is *simulated* randomness.\n",
    "\n",
    "To reduce the impact of this randomness in neural networks, the concept of  a random seed is introduced. A random seed is a number that initializes the pseudorandom number generator (PRNG) in a way that allows you to reproduce the same sequence of random numbers."
   ],
   "id": "2f0c978f4d9bb8e"
  },
  {
   "metadata": {},
   "cell_type": "code",
   "outputs": [],
   "execution_count": 1,
   "source": "import torch",
   "id": "284c8ded59dc7f04"
  },
  {
   "metadata": {},
   "cell_type": "markdown",
   "source": "Let's create two random tensors $A$ and $B$:",
   "id": "75d48146be73ee6c"
  },
  {
   "metadata": {
    "ExecuteTime": {
     "end_time": "2025-04-18T11:35:47.896220Z",
     "start_time": "2025-04-18T11:35:47.858719Z"
    }
   },
   "cell_type": "code",
   "source": [
    "A = torch.rand(3, 4)\n",
    "B = torch.rand(3, 4)\n",
    "\n",
    "print(A)\n",
    "print(B)\n",
    "print(A == B)"
   ],
   "id": "d6bc8601acfbc2ce",
   "outputs": [
    {
     "name": "stdout",
     "output_type": "stream",
     "text": [
      "tensor([[0.1686, 0.2384, 0.7052, 0.5539],\n",
      "        [0.8363, 0.9141, 0.2177, 0.0435],\n",
      "        [0.1069, 0.5115, 0.9120, 0.0212]])\n",
      "tensor([[0.7591, 0.9431, 0.4685, 0.4815],\n",
      "        [0.5604, 0.0890, 0.0408, 0.1474],\n",
      "        [0.1263, 0.4771, 0.4094, 0.4718]])\n",
      "tensor([[False, False, False, False],\n",
      "        [False, False, False, False],\n",
      "        [False, False, False, False]])\n"
     ]
    }
   ],
   "execution_count": 2
  },
  {
   "metadata": {},
   "cell_type": "markdown",
   "source": "It is highly unlikely that the two tensors will be the same, which will make it difficult to reproduce results. Let's set a random seed and create the tensors again:",
   "id": "77a9a4f347406648"
  },
  {
   "metadata": {
    "ExecuteTime": {
     "end_time": "2025-04-18T11:42:14.359866Z",
     "start_time": "2025-04-18T11:42:14.349866Z"
    }
   },
   "cell_type": "code",
   "source": [
    "RANDOM_SEED = 42\n",
    "\n",
    "torch.manual_seed(RANDOM_SEED)\n",
    "C = torch.rand(3, 4)\n",
    "# torch.manual_seed() has to be called before every random generator\n",
    "torch.manual_seed(RANDOM_SEED)\n",
    "D = torch.rand(3, 4)\n",
    "\n",
    "print(C)\n",
    "print(D)\n",
    "print(C == D)"
   ],
   "id": "70be2020687fc3e7",
   "outputs": [
    {
     "name": "stdout",
     "output_type": "stream",
     "text": [
      "tensor([[0.8823, 0.9150, 0.3829, 0.9593],\n",
      "        [0.3904, 0.6009, 0.2566, 0.7936],\n",
      "        [0.9408, 0.1332, 0.9346, 0.5936]])\n",
      "tensor([[0.8823, 0.9150, 0.3829, 0.9593],\n",
      "        [0.3904, 0.6009, 0.2566, 0.7936],\n",
      "        [0.9408, 0.1332, 0.9346, 0.5936]])\n",
      "tensor([[True, True, True, True],\n",
      "        [True, True, True, True],\n",
      "        [True, True, True, True]])\n"
     ]
    }
   ],
   "execution_count": 6
  },
  {
   "metadata": {},
   "cell_type": "markdown",
   "source": "Deterministic operations are often slower than nondeterministic operations, so single-run performance may decrease for your model. However, determinism may save time in development by facilitating experimentation, debugging, and regression testing.",
   "id": "222aeac741451d5f"
  }
 ],
 "metadata": {
  "kernelspec": {
   "display_name": "Python 3",
   "language": "python",
   "name": "python3"
  },
  "language_info": {
   "codemirror_mode": {
    "name": "ipython",
    "version": 2
   },
   "file_extension": ".py",
   "mimetype": "text/x-python",
   "name": "python",
   "nbconvert_exporter": "python",
   "pygments_lexer": "ipython2",
   "version": "2.7.6"
  }
 },
 "nbformat": 4,
 "nbformat_minor": 5
}
